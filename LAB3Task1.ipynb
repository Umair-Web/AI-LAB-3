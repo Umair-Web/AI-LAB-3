{
 "cells": [
  {
   "cell_type": "code",
   "execution_count": 37,
   "id": "211361e8-c954-40c1-8d80-046497e93552",
   "metadata": {},
   "outputs": [
    {
     "name": "stdout",
     "output_type": "stream",
     "text": [
      "Prediction for Weather=Overcast, Temperature=Mild: Yes\n",
      "Confusion Matrix:\n",
      "[[1 1]\n",
      " [2 2]]\n",
      "Accuracy: 0.50\n"
     ]
    }
   ],
   "source": [
    "# Import necessary libraries\n",
    "import pandas as pd\n",
    "from sklearn.model_selection import train_test_split\n",
    "from sklearn.neighbors import KNeighborsClassifier\n",
    "from sklearn.metrics import confusion_matrix, accuracy_score\n",
    "from sklearn.preprocessing import LabelEncoder\n",
    "\n",
    "# Create the dataset\n",
    "data = {\n",
    "    'Weather': ['Sunny', 'Sunny', 'Overcast', 'Rainy', 'Rainy', 'Rainy', 'Overcast', 'Sunny', 'Sunny', 'Rainy', \n",
    "                'Sunny', 'Overcast', 'Overcast', 'Rainy'],\n",
    "    'Temperature': ['Hot', 'Hot', 'Hot', 'Mild', 'Cool', 'Cool', 'Cool', 'Mild', 'Cool', 'Mild', \n",
    "                    'Mild', 'Mild', 'Hot', 'Mild'],\n",
    "    'Play': ['No', 'No', 'Yes', 'Yes', 'Yes', 'No', 'Yes', 'No', 'Yes', 'Yes', \n",
    "             'No', 'Yes', 'Yes', 'No']\n",
    "}\n",
    "\n",
    "# Create DataFrame\n",
    "df = pd.DataFrame(data)\n",
    "\n",
    "# Initialize LabelEncoders for each categorical column\n",
    "weather_encoder = LabelEncoder()\n",
    "temperature_encoder = LabelEncoder()\n",
    "play_encoder = LabelEncoder()\n",
    "\n",
    "# Encode each column\n",
    "df['Weather'] = weather_encoder.fit_transform(df['Weather'])\n",
    "df['Temperature'] = temperature_encoder.fit_transform(df['Temperature'])\n",
    "df['Play'] = play_encoder.fit_transform(df['Play'])\n",
    "\n",
    "# Separate features and target\n",
    "X = df[['Weather', 'Temperature']]\n",
    "y = df['Play']\n",
    "\n",
    "# Split the dataset into training and testing sets\n",
    "X_train, X_test, y_train, y_test = train_test_split(X, y, test_size=0.4, random_state=42)\n",
    "\n",
    "# Initialize KNN model (using 3 neighbors as an example)\n",
    "knn = KNeighborsClassifier(n_neighbors=3)\n",
    "\n",
    "# Train the model\n",
    "knn.fit(X_train, y_train)\n",
    "\n",
    "# Prepare the input data for prediction (\"Overcast\" and \"Mild\")\n",
    "input_data = pd.DataFrame([[weather_encoder.transform(['Overcast'])[0], temperature_encoder.transform(['Mild'])[0]]], columns=['Weather', 'Temperature'])\n",
    "prediction = knn.predict(input_data)\n",
    "\n",
    "# Decode the prediction to get the original label\n",
    "predicted_output = play_encoder.inverse_transform(prediction)\n",
    "\n",
    "# Display the prediction for the input data\n",
    "print(f\"Prediction for Weather=Overcast, Temperature=Mild: {predicted_output[0]}\")\n",
    "\n",
    "# Predict on the test set\n",
    "y_pred = knn.predict(X_test)\n",
    "\n",
    "# Calculate confusion matrix and accuracy\n",
    "conf_matrix = confusion_matrix(y_test, y_pred)\n",
    "print(\"Confusion Matrix:\")\n",
    "print(conf_matrix)\n",
    "\n",
    "accuracy = accuracy_score(y_test, y_pred)\n",
    "print(f\"Accuracy: {accuracy:.2f}\")\n"
   ]
  },
  {
   "cell_type": "code",
   "execution_count": null,
   "id": "12ef5e6d-e277-43c8-8037-817d962f0990",
   "metadata": {},
   "outputs": [],
   "source": []
  }
 ],
 "metadata": {
  "kernelspec": {
   "display_name": "Python 3 (ipykernel)",
   "language": "python",
   "name": "python3"
  },
  "language_info": {
   "codemirror_mode": {
    "name": "ipython",
    "version": 3
   },
   "file_extension": ".py",
   "mimetype": "text/x-python",
   "name": "python",
   "nbconvert_exporter": "python",
   "pygments_lexer": "ipython3",
   "version": "3.12.4"
  }
 },
 "nbformat": 4,
 "nbformat_minor": 5
}
