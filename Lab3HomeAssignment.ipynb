{
 "cells": [
  {
   "cell_type": "code",
   "execution_count": 12,
   "id": "00cdd63e-aa40-4bb0-afdc-b352e459f0fc",
   "metadata": {},
   "outputs": [
    {
     "name": "stdout",
     "output_type": "stream",
     "text": [
      "Accuracy: 0.948051948051948\n",
      "              precision    recall  f1-score   support\n",
      "\n",
      "          No       0.94      1.00      0.97        58\n",
      "         Yes       1.00      0.79      0.88        19\n",
      "\n",
      "    accuracy                           0.95        77\n",
      "   macro avg       0.97      0.89      0.92        77\n",
      "weighted avg       0.95      0.95      0.95        77\n",
      "\n",
      "Confusion Matrix:\n",
      "[[58  0]\n",
      " [ 4 15]]\n"
     ]
    }
   ],
   "source": [
    "from sklearn.model_selection import train_test_split\n",
    "from sklearn.preprocessing import StandardScaler\n",
    "from sklearn.neighbors import KNeighborsClassifier\n",
    "from sklearn.metrics import accuracy_score, classification_report, confusion_matrix\n",
    "import pandas as pd\n",
    "\n",
    "data=pd.read_csv(\"Thyroid_Diff.csv\")\n",
    "\n",
    "#Here it is selecting all input columns except X\n",
    "X = data.drop(columns=['Recurred'])  \n",
    "y = data['Recurred']\n",
    "\n",
    "# Encode categorical variables and standardize numerical ones\n",
    "X = pd.get_dummies(X, drop_first=True)\n",
    "scaler = StandardScaler()\n",
    "X_scaled = scaler.fit_transform(X)\n",
    "\n",
    "# Train/test split\n",
    "X_train, X_test, y_train, y_test = train_test_split(X_scaled, y, test_size=0.2, random_state=42)\n",
    "\n",
    "# Apply kNN\n",
    "knn = KNeighborsClassifier(n_neighbors=5)  # Start with k=5\n",
    "knn.fit(X_train, y_train)\n",
    "\n",
    "# Predictions\n",
    "y_pred = knn.predict(X_test)\n",
    "\n",
    "# Evaluate\n",
    "print(\"Accuracy:\", accuracy_score(y_test, y_pred))\n",
    "print(classification_report(y_test, y_pred))\n",
    "\n",
    "\n",
    "conf_matrix = confusion_matrix(y_test, y_pred)\n",
    "print(\"Confusion Matrix:\")\n",
    "print(conf_matrix)"
   ]
  },
  {
   "cell_type": "code",
   "execution_count": null,
   "id": "3e72cce5-1c95-485e-9b79-80e262875aef",
   "metadata": {},
   "outputs": [],
   "source": []
  },
  {
   "cell_type": "code",
   "execution_count": null,
   "id": "8e7f673f-0b85-4ee1-ba4f-a64650bf131b",
   "metadata": {},
   "outputs": [],
   "source": []
  },
  {
   "cell_type": "code",
   "execution_count": null,
   "id": "f818dde1-fd8f-4f39-aaa7-e9edcf9713da",
   "metadata": {},
   "outputs": [],
   "source": []
  }
 ],
 "metadata": {
  "kernelspec": {
   "display_name": "Python 3 (ipykernel)",
   "language": "python",
   "name": "python3"
  },
  "language_info": {
   "codemirror_mode": {
    "name": "ipython",
    "version": 3
   },
   "file_extension": ".py",
   "mimetype": "text/x-python",
   "name": "python",
   "nbconvert_exporter": "python",
   "pygments_lexer": "ipython3",
   "version": "3.12.4"
  }
 },
 "nbformat": 4,
 "nbformat_minor": 5
}
